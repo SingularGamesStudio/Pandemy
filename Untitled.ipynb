{
 "cells": [
  {
   "cell_type": "code",
   "execution_count": null,
   "id": "62f95a69-97d8-47aa-b311-86e3ab1bf3e8",
   "metadata": {},
   "outputs": [],
   "source": [
    "import pandas as pd\n",
    "import numpy as np\n",
    "import os\n",
    "import torch\n",
    "from torch import nn\n",
    "from torch.utils.data import DataLoader, TensorDataset\n",
    "from torchvision import datasets, transforms\n",
    "import torch.nn as F\n",
    "from copy import copy\n",
    "from tqdm.notebook import tqdm as tqdm_notebook\n",
    "from sklearn.model_selection import train_test_split\n",
    "from sklearn.ensemble import AdaBoostRegressor, GradientBoostingRegressor, ExtraTreesRegressor, RandomForestRegressor\n",
    "from torch.utils.data import TensorDataset, DataLoader\n",
    "from catboost import CatBoostRegressor\n",
    "from sklearn.linear_model import LinearRegression\n",
    "from sklearn.preprocessing import StandardScaler\n",
    "\n",
    "device = \"cuda\" if torch.cuda.is_available() else \"cpu\"\n",
    "print(f\"Using {device} device\")"
   ]
  },
  {
   "cell_type": "markdown",
   "id": "f4396c51-3907-4265-8e4c-6ce0dbf2ba10",
   "metadata": {},
   "source": [
    "**Параметры запуска:**\n",
    "\n",
    "validate - Если true, то производится валидация на обучающей выборке, иначе вычисляется ответ на тестовой\n",
    "\n",
    "calculate_best - Если true то подбираются лучшие гиперпараметры алгоритмов, иначе нет. Функция также требует включённой валидации."
   ]
  },
  {
   "cell_type": "code",
   "execution_count": null,
   "id": "969bbe1b-1e86-4dbb-97cd-d41d7b6ab613",
   "metadata": {},
   "outputs": [],
   "source": [
    "validate = True\n",
    "calculate_best = False\n",
    "if(calculate_best and not validate):\n",
    "    print(\"ERROR: when calculating best parameters, validation is needed. calculate_best was switched to <False>\")\n",
    "    calculate_best = False"
   ]
  },
  {
   "cell_type": "code",
   "execution_count": null,
   "id": "6497a7f9-c335-48f4-962d-bc9339ccb24b",
   "metadata": {},
   "outputs": [],
   "source": [
    "data_test = pd.read_csv(\"covid_data_test.csv\", sep=',')"
   ]
  },
  {
   "cell_type": "code",
   "execution_count": null,
   "id": "05bb27bc-632d-4ede-bd7e-1c2ab02f54a3",
   "metadata": {},
   "outputs": [],
   "source": [
    "ids_test = data_test['Unnamed: 0']\n",
    "ids_test"
   ]
  },
  {
   "cell_type": "code",
   "execution_count": null,
   "id": "0d67c30a-a53b-41a0-847f-185a5d036c49",
   "metadata": {},
   "outputs": [],
   "source": [
    "data_test = data_test.drop(columns=['Unnamed: 0'])"
   ]
  },
  {
   "cell_type": "markdown",
   "id": "70f00e87-e548-46a7-b071-3bee2103526b",
   "metadata": {
    "tags": []
   },
   "source": [
    "## Инициализация"
   ]
  },
  {
   "cell_type": "code",
   "execution_count": null,
   "id": "6f6eff5d-2605-4365-aa1a-f7db845806fc",
   "metadata": {},
   "outputs": [],
   "source": [
    "data = pd.read_csv(\"covid_data_train.csv\", sep=',').drop(columns='Unnamed: 0')\n",
    "data = data.drop(data[data['inf_rate'].isna()].index)\n",
    "data = data.set_index(np.arange(data.shape[0]))"
   ]
  },
  {
   "cell_type": "code",
   "execution_count": null,
   "id": "7dbca9c9-31c5-4691-b54c-023afc09bf3e",
   "metadata": {},
   "outputs": [],
   "source": [
    "data.shape"
   ]
  },
  {
   "cell_type": "markdown",
   "id": "5e6e4e1a-165a-42b8-ae88-525567195198",
   "metadata": {},
   "source": [
    "Объединяем data и data_test для параллельной предобработки"
   ]
  },
  {
   "cell_type": "code",
   "execution_count": null,
   "id": "d46234cd-1f93-4c0c-808a-d37fa38c5b2a",
   "metadata": {},
   "outputs": [],
   "source": [
    "train_size = data.shape[0]\n",
    "data = pd.concat([data, data_test])\n",
    "data = data.set_index(np.arange(data.shape[0]))"
   ]
  },
  {
   "cell_type": "markdown",
   "id": "9a383864-45b1-49c2-949b-b836de3d0182",
   "metadata": {},
   "source": [
    "Подгружаем данные о ВВП из дополнительной таблицы"
   ]
  },
  {
   "cell_type": "code",
   "execution_count": null,
   "id": "45c77c93-4543-4800-9fa6-ffe240ed20c7",
   "metadata": {},
   "outputs": [],
   "source": [
    "vvp = pd.read_csv(\"vvp.csv\", sep=',').drop(columns='Unnamed: 0')"
   ]
  },
  {
   "cell_type": "code",
   "execution_count": null,
   "id": "9166d124-f118-47b5-be03-b187d305f201",
   "metadata": {},
   "outputs": [],
   "source": [
    "vvp_features = vvp.columns.values[1:]"
   ]
  },
  {
   "cell_type": "code",
   "execution_count": null,
   "id": "13da1e16-194c-44d6-bd44-0e4e4f9e4e2f",
   "metadata": {},
   "outputs": [],
   "source": [
    "mapp = {}\n",
    "for i in range(vvp.shape[0]):\n",
    "    mapp[vvp['subject'][i]] = vvp.loc[i]"
   ]
  },
  {
   "cell_type": "code",
   "execution_count": null,
   "id": "fb9f9205-66bd-4a92-8d18-c550fa55edb2",
   "metadata": {},
   "outputs": [],
   "source": [
    "for feature in vvp_features:\n",
    "    data[feature] = np.zeros(data.shape[0])\n",
    "for i in range(data.shape[0]):\n",
    "    val = mapp[data['subject'][i]]\n",
    "    for feature in vvp_features:\n",
    "        data[feature][i] = float(val[feature].replace(',', '.'))"
   ]
  },
  {
   "cell_type": "markdown",
   "id": "0dee78f6-7a38-4c7e-b66b-1b7160ee7818",
   "metadata": {},
   "source": [
    "Удаляем лишние столбцы (в которых много NaN, и дубликаты)"
   ]
  },
  {
   "cell_type": "code",
   "execution_count": null,
   "id": "89d3fbcf-e6f3-4ddc-b9c7-758ee9e82b2c",
   "metadata": {},
   "outputs": [],
   "source": [
    "data = data.drop(columns=['ivl_number', 'ekmo_number',\n",
    "                   'epirank_avia', 'epirank_avia_cat', 'epirank_train_cat', 'epirank_train',\n",
    "                  'ecology', 'cleanness', 'public_services', 'neighbourhood', 'children_places', 'sport_and_outdoor', 'shops_and_malls', 'public_transport', 'security', 'life_costs', 'life_quality_place_rating'])"
   ]
  },
  {
   "cell_type": "code",
   "execution_count": null,
   "id": "8e3130b2-102e-47cb-9479-751775efcf17",
   "metadata": {},
   "outputs": [],
   "source": [
    "divby_total = ['work_ratio_15-72_years', 'work_ratio_55-64_years', \n",
    "       'work_ratio_15-24_years', 'work_ratio_15-64_years', \n",
    "       'work_ratio_25-54_years',\n",
    "       'num_patients_tubercul_1992', 'num_patients_tubercul_1993',\n",
    "       'num_patients_tubercul_1994', 'num_patients_tubercul_1995',\n",
    "       'num_patients_tubercul_1996', 'num_patients_tubercul_1997',\n",
    "       'num_patients_tubercul_1998', 'num_patients_tubercul_1999',\n",
    "       'num_patients_tubercul_2000', 'num_patients_tubercul_2001',\n",
    "       'num_patients_tubercul_2002', 'num_patients_tubercul_2003',\n",
    "       'num_patients_tubercul_2004', 'num_patients_tubercul_2005',\n",
    "       'num_patients_tubercul_2006', 'num_patients_tubercul_2007',\n",
    "       'num_patients_tubercul_2008', 'num_patients_tubercul_2009',\n",
    "       'num_patients_tubercul_2010', 'num_patients_tubercul_2011',\n",
    "       'num_patients_tubercul_2012', 'num_patients_tubercul_2013',\n",
    "       'num_patients_tubercul_2014', 'num_patients_tubercul_2015',\n",
    "       'num_patients_tubercul_2016', 'num_patients_tubercul_2017',\n",
    "       'volume_serv_household_2017', 'volume_serv_chargeable_2017',\n",
    "       'volume_serv_transport_2017', 'volume_serv_post_2017',\n",
    "       'volume_serv_accommodation_2017', 'volume_serv_telecom_2017',\n",
    "       'volume_serv_others_2017', 'volume_serv_veterinary_2017',\n",
    "       'volume_serv_housing_2017', 'volume_serv_education_2017',\n",
    "       'volume_serv_medicine_2017', 'volume_serv_disabled_2017',\n",
    "       'volume_serv_culture_2017', 'volume_serv_sport_2017',\n",
    "       'volume_serv_hotels_2017', 'volume_serv_tourism_2017',\n",
    "       'volume_serv_sanatorium_2017', 'bus_march_travel_18',\n",
    "       'bus_april_travel_18']\n",
    "\n",
    "\n",
    "divby_rural = ['rural_50-54_years',\n",
    "       'rural_55-59_years', 'rural_60-64_years', 'rural_65-69_years',\n",
    "       'rural_70-74_years', 'rural_75-79_years', 'rural_80-84_years',\n",
    "       'rural_85-89_years', 'rural_90-94_years',\n",
    "        'num_phones_rural_2018']\n",
    "divby_urban = ['urban_50-54_years',\n",
    "       'urban_55-59_years', 'urban_60-64_years', 'urban_65-69_years',\n",
    "       'urban_70-74_years', 'urban_75-79_years', 'urban_80-84_years',\n",
    "       'urban_85-89_years', 'urban_90-94_years',\n",
    "        'num_phones_urban_2019']"
   ]
  },
  {
   "cell_type": "markdown",
   "id": "835246c6-0021-4efb-bcdb-7bf39b4b2da8",
   "metadata": {},
   "source": [
    "Эти фичи более информативны при делении на население, поэтому поделим"
   ]
  },
  {
   "cell_type": "code",
   "execution_count": null,
   "id": "a708e0cc-c87d-4384-b50d-8e8b710a26c6",
   "metadata": {},
   "outputs": [],
   "source": [
    "total_cnt = data['whole_population']\n",
    "total_cnt = total_cnt.replace(to_replace=0, value=1)\n",
    "rural_cnt = data['rural']\n",
    "rural_cnt = rural_cnt.replace(to_replace=0, value=1)\n",
    "urban_cnt = data['urban']\n",
    "rural_cnt = urban_cnt.replace(to_replace=0, value=1)\n",
    "data[divby_total] = data[divby_total].divide(total_cnt, axis='rows')\n",
    "data[divby_rural] = data[divby_rural].divide(rural_cnt, axis='rows')\n",
    "data[divby_urban] = data[divby_urban].divide(urban_cnt, axis='rows')"
   ]
  },
  {
   "cell_type": "code",
   "execution_count": null,
   "id": "db099330-d063-4d1f-a8f9-6514a8c3245c",
   "metadata": {},
   "outputs": [],
   "source": [
    "data.shape"
   ]
  },
  {
   "cell_type": "code",
   "execution_count": null,
   "id": "3e3b8fc6-18db-4b57-8db9-1b38de45c7be",
   "metadata": {},
   "outputs": [],
   "source": [
    "data.select_dtypes(include=['object'])"
   ]
  },
  {
   "cell_type": "markdown",
   "id": "b714f724-3f53-4860-973e-524d45ef1edc",
   "metadata": {},
   "source": [
    "Эти фичи неинформативны, удаляем"
   ]
  },
  {
   "cell_type": "code",
   "execution_count": null,
   "id": "c42ed25e-05af-412f-ba45-7101d350172e",
   "metadata": {},
   "outputs": [],
   "source": [
    "data = data.drop(columns=['name', 'region_x'])"
   ]
  },
  {
   "cell_type": "code",
   "execution_count": null,
   "id": "20e9c26d-9d43-4fa9-a54f-37c51fbbc26f",
   "metadata": {},
   "outputs": [],
   "source": [
    "temp = data.isna().sum()\n",
    "temp[temp!=0]"
   ]
  },
  {
   "cell_type": "code",
   "execution_count": null,
   "id": "d1f99d21-1042-4a7b-a328-3067c21c32c3",
   "metadata": {
    "tags": []
   },
   "outputs": [],
   "source": [
    "data.info()"
   ]
  },
  {
   "cell_type": "markdown",
   "id": "af39dbf1-3755-47d2-80db-82c7e6e10008",
   "metadata": {},
   "source": [
    "Делим на train и test"
   ]
  },
  {
   "cell_type": "code",
   "execution_count": null,
   "id": "a93f8912-a4ea-40ab-9477-c4d2861262d8",
   "metadata": {},
   "outputs": [],
   "source": [
    "if(validate):\n",
    "    data = data.loc[:train_size-1]\n",
    "    data, data_test = train_test_split(data)\n",
    "else:\n",
    "    data_test = data.loc[train_size:]\n",
    "    data = data.loc[:train_size-1]\n",
    "    data_test = data_test.set_index(np.arange(data_test.shape[0]))"
   ]
  },
  {
   "cell_type": "markdown",
   "id": "c537cc6a-978b-41a5-bdd1-9f13638d34e1",
   "metadata": {},
   "source": [
    "Избавляемся от NaN-ов"
   ]
  },
  {
   "cell_type": "code",
   "execution_count": null,
   "id": "1d2741fa-de72-4771-864d-db3053ef1d89",
   "metadata": {},
   "outputs": [],
   "source": [
    "data = data.fillna(data.mean())\n",
    "data_test = data_test.fillna(data_test.mean())"
   ]
  },
  {
   "cell_type": "code",
   "execution_count": null,
   "id": "3a21af7d-6504-4c9c-bb25-722016359a68",
   "metadata": {},
   "outputs": [],
   "source": [
    "y = data['inf_rate']\n",
    "y_test = data_test['inf_rate']\n",
    "data = data.drop(columns=['inf_rate'])\n",
    "data_test = data_test.drop(columns=['inf_rate'])"
   ]
  },
  {
   "cell_type": "markdown",
   "id": "15b2c240-f392-42d6-9f7b-dc5e5f9d9cd2",
   "metadata": {},
   "source": [
    "Стандартизуем данные"
   ]
  },
  {
   "cell_type": "code",
   "execution_count": null,
   "id": "04f2871f-8745-434e-b0f4-9ef034ff3879",
   "metadata": {},
   "outputs": [],
   "source": [
    "scaler = StandardScaler()\n",
    "numerics = ['int16', 'int32', 'int64', 'float16', 'float32', 'float64']\n",
    "scaler.fit(data.select_dtypes(include=numerics))\n",
    "data[data.select_dtypes(include=numerics).columns] = scaler.transform(data.select_dtypes(include=numerics))\n",
    "data_test[data_test.select_dtypes(include=numerics).columns] = scaler.transform(data_test.select_dtypes(include=numerics))"
   ]
  },
  {
   "cell_type": "markdown",
   "id": "ad2d3237-e7cf-406b-9a2c-0740934a01db",
   "metadata": {},
   "source": [
    "### Удаление лишних признаков"
   ]
  },
  {
   "cell_type": "code",
   "execution_count": null,
   "id": "158e9f98-1268-4ff5-b03b-a2377726581b",
   "metadata": {},
   "outputs": [],
   "source": [
    "best_params_catboost = {\n",
    "    'depth':5,\n",
    "    'iterations':2000,\n",
    "    'learning_rate':0.009,\n",
    "    'border_count':40,\n",
    "} #параметры получены из перебора, он сам показан в следующем разделе\n",
    "reg = CatBoostRegressor(random_state=42, iterations=best_params_catboost['iterations'],depth=best_params_catboost['depth'], learning_rate=best_params_catboost['learning_rate'],\n",
    "                        loss_function=\"MAE\", cat_features=data.select_dtypes(include='object').columns.values, task_type=\"GPU\", logging_level=\"Silent\")\n",
    "reg.fit(data, y)\n",
    "indexes = np.argsort(reg.feature_importances_)\n",
    "features_sorted = data.columns.values[indexes[::-1]]"
   ]
  },
  {
   "cell_type": "code",
   "execution_count": null,
   "id": "fb48f4bd-37f2-40b4-a5bf-81685b9a1c6d",
   "metadata": {},
   "outputs": [],
   "source": [
    "features_sorted"
   ]
  },
  {
   "cell_type": "markdown",
   "id": "c1fbf3f0-e381-42d8-bea6-4c9a8c87cefd",
   "metadata": {},
   "source": [
    "Оставим самые важные 40 признаков, так как обычно избыточное их число ухудшает качество модели"
   ]
  },
  {
   "cell_type": "code",
   "execution_count": null,
   "id": "0215300a-5010-4c30-8ec3-cc5927675be3",
   "metadata": {},
   "outputs": [],
   "source": [
    "data = data[features_sorted[:40]]\n",
    "data_test = data_test[features_sorted[:40]]"
   ]
  },
  {
   "cell_type": "markdown",
   "id": "0fd40458-ed1b-4c17-9db8-9d704ee65818",
   "metadata": {
    "tags": []
   },
   "source": [
    "## Подбор гиперпараметров деревьев"
   ]
  },
  {
   "cell_type": "markdown",
   "id": "e0cf8e6c-4015-4893-882d-f6a3bb05960c",
   "metadata": {
    "jp-MarkdownHeadingCollapsed": true,
    "tags": []
   },
   "source": [
    "### GradientBoostingRegressor"
   ]
  },
  {
   "cell_type": "code",
   "execution_count": null,
   "id": "8ed00813-71eb-41ad-92c0-56e59878a8c9",
   "metadata": {},
   "outputs": [],
   "source": [
    "params_gboost={\n",
    "    'max_depth':[5, 6],\n",
    "    'n_estimators':[1000, 1200, 1400],\n",
    "    'learning_rate':[0.25, 0.3],\n",
    "}\n",
    "cur_params_gboost = {\n",
    "    'max_depth':0,\n",
    "    'n_estimators':0,\n",
    "    'learning_rate':0,\n",
    "}\n",
    "best_params_gboost = {\n",
    "    'max_depth':7,\n",
    "    'n_estimators':1000,\n",
    "    'learning_rate':0.3,\n",
    "}\n",
    "if calculate_best:\n",
    "    best_score = 10000\n",
    "    for cur_params_gboost['max_depth'] in params_gboost['max_depth']:\n",
    "        for cur_params_gboost['n_estimators'] in params_gboost['n_estimators']:\n",
    "            for cur_params_gboost['learning_rate'] in params_gboost['learning_rate']:\n",
    "                reg = GradientBoostingRegressor(random_state = 42, n_estimators=cur_params_gboost['n_estimators'], max_depth=cur_params_gboost['max_depth'], learning_rate=cur_params_gboost['learning_rate'])\n",
    "                reg.fit(data.select_dtypes(include=numerics), y)\n",
    "                pred = reg.predict(data_test.select_dtypes(include=numerics))\n",
    "                score = np.mean(np.abs(pred-y_test))\n",
    "                print(cur_params_gboost, ':\\t\\t', score)\n",
    "                if(score<best_score):\n",
    "                    best_score = score\n",
    "                    best_params_gboost = copy(cur_params_gboost)\n",
    "    print()\n",
    "    print(\"Best score:\")\n",
    "    print(best_params_gboost)\n",
    "    print(best_score)"
   ]
  },
  {
   "cell_type": "markdown",
   "id": "e93797c9-1cab-4640-8dfe-0b339f853303",
   "metadata": {
    "jp-MarkdownHeadingCollapsed": true,
    "tags": []
   },
   "source": [
    "### ExtraTreesRegressor"
   ]
  },
  {
   "cell_type": "code",
   "execution_count": null,
   "id": "c98d75c9-00d2-4c8e-8b98-1f0be3a8f1f2",
   "metadata": {},
   "outputs": [],
   "source": [
    "params_xtrees={\n",
    "    'max_depth':[14, 15, 16],\n",
    "    'n_estimators':[800, 1000, 1200],\n",
    "}\n",
    "cur_params_xtrees = {\n",
    "    'max_depth':0,\n",
    "    'n_estimators':0,\n",
    "}\n",
    "best_params_xtrees = {\n",
    "    'max_depth':22,\n",
    "    'n_estimators':1000,\n",
    "}\n",
    "if calculate_best:\n",
    "    best_score = 10000\n",
    "    for cur_params_xtrees['max_depth'] in params_xtrees['max_depth']:\n",
    "        for cur_params_xtrees['n_estimators'] in params_xtrees['n_estimators']:\n",
    "            reg = ExtraTreesRegressor(random_state = 42, n_estimators=cur_params_xtrees['n_estimators'],max_depth=cur_params_xtrees['max_depth'])\n",
    "            reg.fit(data.select_dtypes(include=numerics), y)\n",
    "            pred = reg.predict(data_test.select_dtypes(include=numerics))\n",
    "            score = np.mean(np.abs(pred-y_test))\n",
    "            print(cur_params_xtrees, ':\\t\\t', score)\n",
    "            if(score<best_score):\n",
    "                best_score = score\n",
    "                best_params_xtrees = copy(cur_params_xtrees)\n",
    "    print()\n",
    "    print(\"Best score:\")\n",
    "    print(best_params_xtrees)\n",
    "    print(best_score)"
   ]
  },
  {
   "cell_type": "markdown",
   "id": "ac15c51d-947e-4de3-a9a5-223b6d92df0d",
   "metadata": {
    "jp-MarkdownHeadingCollapsed": true,
    "tags": []
   },
   "source": [
    "### RandomForestRegressor"
   ]
  },
  {
   "cell_type": "code",
   "execution_count": null,
   "id": "ee3aeed1-7d83-4603-a57e-0b1529b66b3f",
   "metadata": {},
   "outputs": [],
   "source": [
    "params_rforest={\n",
    "    'max_depth':[11, 12, 13],\n",
    "    'n_estimators':[1000, 1200, 1400],\n",
    "}\n",
    "cur_params_rforest = {\n",
    "    'max_depth':0,\n",
    "    'n_estimators':0,\n",
    "}\n",
    "best_params_rforest = {\n",
    "    'max_depth':13,\n",
    "    'n_estimators':1400,\n",
    "}\n",
    "if calculate_best:\n",
    "    best_score = 10000\n",
    "    for cur_params_rforest['max_depth'] in params_rforest['max_depth']:\n",
    "        for cur_params_rforest['n_estimators'] in params_rforest['n_estimators']:\n",
    "            reg = RandomForestRegressor(random_state=42, n_estimators=cur_params_rforest['n_estimators'],max_depth=cur_params_rforest['max_depth'])\n",
    "            reg.fit(data.select_dtypes(include=numerics), y)\n",
    "            pred = reg.predict(data_test.select_dtypes(include=numerics))\n",
    "            score = np.mean(np.abs(pred-y_test))\n",
    "            print(cur_params_rforest, ':\\t\\t', score)\n",
    "            if(score<best_score):\n",
    "                best_score = score\n",
    "                best_params_rforest = copy(cur_params_rforest)\n",
    "    print()\n",
    "    print(\"Best score:\")\n",
    "    print(best_params_rforest)\n",
    "    print(best_score)"
   ]
  },
  {
   "cell_type": "markdown",
   "id": "77f714ef-d778-4a5b-a78f-d48b109e7f29",
   "metadata": {
    "jp-MarkdownHeadingCollapsed": true,
    "tags": []
   },
   "source": [
    "### CatBoostRegressor"
   ]
  },
  {
   "cell_type": "code",
   "execution_count": null,
   "id": "cacf32f1-cb01-4ce2-a05d-8cc573db00dc",
   "metadata": {},
   "outputs": [],
   "source": [
    "params_catboost={\n",
    "    'depth':[5, 6],\n",
    "    'iterations':[2000, 2500],\n",
    "    'learning_rate':[0.009, 0.01],\n",
    "    'border_count':[40, 50],\n",
    "}\n",
    "cur_params_catboost = {\n",
    "    'depth':0,\n",
    "    'iterations':0,\n",
    "    'learning_rate':0,\n",
    "    'border_count':0,\n",
    "}\n",
    "best_params_catboost = {\n",
    "    'depth':5,\n",
    "    'iterations':2000,\n",
    "    'learning_rate':0.009,\n",
    "    'border_count':40,\n",
    "}\n",
    "if calculate_best:\n",
    "    best_score = 10000\n",
    "    for cur_params_catboost['depth'] in params_catboost['depth']:\n",
    "        for cur_params_catboost['iterations'] in params_catboost['iterations']:\n",
    "            for cur_params_catboost['learning_rate'] in params_catboost['learning_rate']:\n",
    "                for cur_params_catboost['border_count'] in params_catboost['border_count']:\n",
    "                    reg = CatBoostRegressor(random_state=42, iterations=cur_params_catboost['iterations'],depth=cur_params_catboost['depth'], learning_rate=cur_params_catboost['learning_rate'],\n",
    "                                           loss_function=\"MAE\", cat_features=data.select_dtypes(include='object').columns.values, task_type=\"GPU\", logging_level=\"Silent\")\n",
    "                    reg.fit(data, y)\n",
    "                    pred = reg.predict(data_test)\n",
    "                    score = np.mean(np.abs(pred-y_test))\n",
    "                    print(cur_params_catboost, ':\\t\\t', score)\n",
    "                    if(score<best_score):\n",
    "                        best_score = score\n",
    "                        best_params_catboost = copy(cur_params_catboost)\n",
    "    print()\n",
    "    print(\"Best score:\")\n",
    "    print(best_params_catboost)\n",
    "    print(best_score)"
   ]
  },
  {
   "cell_type": "markdown",
   "id": "191ad098-8da9-4639-b2fa-609b24f035d8",
   "metadata": {
    "tags": []
   },
   "source": [
    "## Получение предсказаний из моделей"
   ]
  },
  {
   "cell_type": "code",
   "execution_count": null,
   "id": "fcbb0672-9af3-44eb-b7b6-4538edf4edf0",
   "metadata": {},
   "outputs": [],
   "source": [
    "reg = GradientBoostingRegressor(random_state=42, n_estimators=best_params_gboost['n_estimators'],max_depth=best_params_gboost['max_depth'], learning_rate=best_params_gboost['learning_rate'])\n",
    "reg.fit(data.select_dtypes(include=numerics), y)\n",
    "data_gboost = reg.predict(data.select_dtypes(include=numerics))\n",
    "data_gboost_test = reg.predict(data_test.select_dtypes(include=numerics))\n",
    "if validate:\n",
    "    print(\"GradientBoostingRegressor score:\", np.mean(np.abs(data_gboost_test-y_test)))\n",
    "\n",
    "reg = ExtraTreesRegressor(random_state=42, n_estimators=best_params_xtrees['n_estimators'],max_depth=best_params_xtrees['max_depth'])\n",
    "reg.fit(data.select_dtypes(include=numerics), y)\n",
    "data_xtrees = reg.predict(data.select_dtypes(include=numerics))\n",
    "data_xtrees_test = reg.predict(data_test.select_dtypes(include=numerics))\n",
    "if validate:\n",
    "    print(\"ExtraTreesRegressor score:\", np.mean(np.abs(data_xtrees_test-y_test)))\n",
    "    \n",
    "reg = RandomForestRegressor(random_state=42, n_estimators=best_params_rforest['n_estimators'],max_depth=best_params_rforest['max_depth'])\n",
    "reg.fit(data.select_dtypes(include=numerics), y)\n",
    "data_rforest = reg.predict(data.select_dtypes(include=numerics))\n",
    "data_rforest_test = reg.predict(data_test.select_dtypes(include=numerics))\n",
    "if validate:\n",
    "    print(\"RandomForestRegressor score:\", np.mean(np.abs(data_rforest_test-y_test)))\n",
    "    \n",
    "reg = CatBoostRegressor(random_state=42, iterations=best_params_catboost['iterations'],depth=best_params_catboost['depth'], learning_rate=best_params_catboost['learning_rate'],\n",
    "                                           loss_function=\"MAE\", cat_features=data.select_dtypes(include='object').columns.values, task_type=\"GPU\", logging_level=\"Silent\")\n",
    "reg.fit(data, y)\n",
    "data_catboost = reg.predict(data)\n",
    "data_catboost_test = reg.predict(data_test)\n",
    "if validate:\n",
    "    print(\"CatBoostRegressor score:\", np.mean(np.abs(data_catboost_test-y_test)))"
   ]
  },
  {
   "cell_type": "code",
   "execution_count": null,
   "id": "70e52315-2d5f-4450-a274-c933850eba7b",
   "metadata": {},
   "outputs": [],
   "source": [
    "data2 = np.hstack([np.reshape(data_gboost, (-1, 1)), np.reshape(data_xtrees, (-1, 1)), np.reshape(data_rforest, (-1, 1)), np.reshape(data_catboost, (-1, 1))])\n",
    "data2_test = np.hstack([np.reshape(data_gboost_test, (-1, 1)), np.reshape(data_xtrees_test, (-1, 1)), np.reshape(data_rforest_test, (-1, 1)), np.reshape(data_catboost_test, (-1, 1))])"
   ]
  },
  {
   "cell_type": "markdown",
   "id": "455d34f4-954e-498d-8dff-c54ca3a042cf",
   "metadata": {
    "tags": []
   },
   "source": [
    "## Стекинг"
   ]
  },
  {
   "cell_type": "markdown",
   "id": "15153e9d-d564-410d-bd88-43fb455454e6",
   "metadata": {},
   "source": [
    "Объединяем предсказания моделей при помощи ещё одной для получения лучшего результата"
   ]
  },
  {
   "cell_type": "code",
   "execution_count": null,
   "id": "f2645fd4-d3cf-4fa8-829f-f819652b2be9",
   "metadata": {},
   "outputs": [],
   "source": [
    "reg = GradientBoostingRegressor(random_state=42, n_estimators=1400 ,max_depth=6, learning_rate=0.3)\n",
    "reg.fit(data2, y)\n",
    "if validate:\n",
    "    print(\"Final score: \", np.mean(np.abs(reg.predict(data2_test)-y_test)))\n",
    "else:\n",
    "    res = reg.predict(data2_test)\n",
    "    df = pd.DataFrame(data={'inf_rate':res}).set_index(ids_test)\n",
    "    df.to_csv(\"res.csv\")#Сохраняем результат"
   ]
  }
 ],
 "metadata": {
  "kernelspec": {
   "display_name": "Python 3 (ipykernel)",
   "language": "python",
   "name": "python3"
  },
  "language_info": {
   "codemirror_mode": {
    "name": "ipython",
    "version": 3
   },
   "file_extension": ".py",
   "mimetype": "text/x-python",
   "name": "python",
   "nbconvert_exporter": "python",
   "pygments_lexer": "ipython3",
   "version": "3.10.4"
  }
 },
 "nbformat": 4,
 "nbformat_minor": 5
}
